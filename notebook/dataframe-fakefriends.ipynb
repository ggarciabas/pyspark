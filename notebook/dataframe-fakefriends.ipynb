{
 "metadata": {
  "language_info": {
   "codemirror_mode": {
    "name": "ipython",
    "version": 3
   },
   "file_extension": ".py",
   "mimetype": "text/x-python",
   "name": "python",
   "nbconvert_exporter": "python",
   "pygments_lexer": "ipython3",
   "version": "3.9.0-final"
  },
  "orig_nbformat": 2,
  "kernelspec": {
   "name": "python3",
   "display_name": "Python 3"
  }
 },
 "nbformat": 4,
 "nbformat_minor": 2,
 "cells": [
  {
   "cell_type": "code",
   "execution_count": 1,
   "metadata": {},
   "outputs": [],
   "source": [
    "from pyspark.sql import SparkSession, Row"
   ]
  },
  {
   "cell_type": "code",
   "execution_count": 2,
   "metadata": {},
   "outputs": [],
   "source": [
    "spark = SparkSession.builder.appName('Fakesocial').getOrCreate()"
   ]
  },
  {
   "cell_type": "code",
   "execution_count": 3,
   "metadata": {},
   "outputs": [],
   "source": [
    "def parse (line):\n",
    "    fields = line.split(',')\n",
    "    return (Row(ID=int(fields[0]), Name=str(fields[1].encode('utf-8')),\n",
    "                Age=int(fields[2]), Friends=int(fields[3])))"
   ]
  },
  {
   "cell_type": "code",
   "execution_count": 4,
   "metadata": {},
   "outputs": [],
   "source": [
    "lines = spark.sparkContext.textFile('file:////Users/giovanna/Documents/GitHub/pyspark/SparkCourse/fakefriends.csv')"
   ]
  },
  {
   "cell_type": "code",
   "execution_count": 5,
   "metadata": {},
   "outputs": [],
   "source": [
    "rdd = lines.map(parse)"
   ]
  },
  {
   "cell_type": "code",
   "execution_count": 6,
   "metadata": {},
   "outputs": [],
   "source": [
    "sdf = spark.createDataFrame(rdd).cache()\n",
    "sdf.createOrReplaceTempView('people')"
   ]
  },
  {
   "cell_type": "code",
   "execution_count": 7,
   "metadata": {},
   "outputs": [],
   "source": [
    "teenagers = spark.sql('SELECT * FROM people WHERE Age>=13 AND Age<=19')"
   ]
  },
  {
   "cell_type": "code",
   "execution_count": 8,
   "metadata": {},
   "outputs": [
    {
     "output_type": "stream",
     "name": "stdout",
     "text": [
      "Row(ID=21, Name=\"b'Miles'\", Age=19, Friends=268)\nRow(ID=52, Name=\"b'Beverly'\", Age=19, Friends=269)\nRow(ID=54, Name=\"b'Brunt'\", Age=19, Friends=5)\nRow(ID=106, Name=\"b'Beverly'\", Age=18, Friends=499)\nRow(ID=115, Name=\"b'Dukat'\", Age=18, Friends=397)\nRow(ID=133, Name=\"b'Quark'\", Age=19, Friends=265)\nRow(ID=136, Name=\"b'Will'\", Age=19, Friends=335)\nRow(ID=225, Name=\"b'Elim'\", Age=19, Friends=106)\nRow(ID=304, Name=\"b'Will'\", Age=19, Friends=404)\nRow(ID=341, Name=\"b'Data'\", Age=18, Friends=326)\nRow(ID=366, Name=\"b'Keiko'\", Age=19, Friends=119)\nRow(ID=373, Name=\"b'Quark'\", Age=19, Friends=272)\nRow(ID=377, Name=\"b'Beverly'\", Age=18, Friends=418)\nRow(ID=404, Name=\"b'Kasidy'\", Age=18, Friends=24)\nRow(ID=409, Name=\"b'Nog'\", Age=19, Friends=267)\nRow(ID=439, Name=\"b'Data'\", Age=18, Friends=417)\nRow(ID=444, Name=\"b'Keiko'\", Age=18, Friends=472)\nRow(ID=492, Name=\"b'Dukat'\", Age=19, Friends=36)\nRow(ID=494, Name=\"b'Kasidy'\", Age=18, Friends=194)\n"
     ]
    }
   ],
   "source": [
    "for teen in teenagers.collect():\n",
    "    print (teen)"
   ]
  },
  {
   "cell_type": "code",
   "execution_count": 9,
   "metadata": {},
   "outputs": [
    {
     "output_type": "stream",
     "name": "stdout",
     "text": [
      "+---+-----+\n|Age|count|\n+---+-----+\n| 63|    4|\n| 50|    5|\n| 65|    5|\n| 20|    5|\n| 24|    5|\n| 42|    6|\n| 34|    6|\n| 56|    6|\n| 49|    6|\n| 60|    7|\n| 43|    7|\n| 53|    7|\n| 39|    7|\n| 22|    7|\n| 51|    7|\n| 18|    8|\n| 35|    8|\n| 27|    8|\n| 31|    8|\n| 21|    8|\n+---+-----+\nonly showing top 20 rows\n\n"
     ]
    }
   ],
   "source": [
    "sdf.groupby('Age').count().orderBy('count').show()"
   ]
  },
  {
   "cell_type": "code",
   "execution_count": 10,
   "metadata": {},
   "outputs": [],
   "source": [
    "spark.stop()"
   ]
  },
  {
   "cell_type": "code",
   "execution_count": 11,
   "metadata": {},
   "outputs": [],
   "source": [
    "spark = SparkSession.builder.appName('Fakesocial2').getOrCreate()"
   ]
  },
  {
   "cell_type": "code",
   "execution_count": 13,
   "metadata": {},
   "outputs": [],
   "source": [
    "sdf = spark.read.option('header', 'true').option('inferSchema', 'true').csv('////Users/giovanna/Documents/GitHub/pyspark/SparkCourse/fakefriends-header.csv')"
   ]
  },
  {
   "cell_type": "code",
   "execution_count": 14,
   "metadata": {},
   "outputs": [
    {
     "output_type": "stream",
     "name": "stdout",
     "text": [
      "root\n |-- userID: integer (nullable = true)\n |-- name: string (nullable = true)\n |-- age: integer (nullable = true)\n |-- friends: integer (nullable = true)\n\n"
     ]
    }
   ],
   "source": [
    "sdf.printSchema()"
   ]
  },
  {
   "cell_type": "code",
   "execution_count": 17,
   "metadata": {},
   "outputs": [
    {
     "output_type": "stream",
     "name": "stdout",
     "text": [
      "+---+------------------+\n|age|      avg(friends)|\n+---+------------------+\n| 63|             384.0|\n| 21|           350.875|\n| 18|           343.375|\n| 52| 340.6363636363636|\n| 33| 325.3333333333333|\n| 45|309.53846153846155|\n| 56| 306.6666666666667|\n| 42|             303.5|\n| 51|302.14285714285717|\n| 65|             298.2|\n| 55|295.53846153846155|\n| 44| 282.1666666666667|\n| 48|             281.4|\n| 64| 281.3333333333333|\n| 54| 278.0769230769231|\n| 66|276.44444444444446|\n| 68|             269.6|\n| 41|268.55555555555554|\n| 31|            267.25|\n| 57| 258.8333333333333|\n+---+------------------+\nonly showing top 20 rows\n\n"
     ]
    }
   ],
   "source": [
    "sdf.groupBy('age').avg('friends').orderBy('avg(friends)', ascending=False).show()"
   ]
  },
  {
   "cell_type": "code",
   "execution_count": 18,
   "metadata": {},
   "outputs": [],
   "source": [
    "spark.stop()"
   ]
  }
 ]
}