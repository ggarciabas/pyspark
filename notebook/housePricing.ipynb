{
 "metadata": {
  "language_info": {
   "codemirror_mode": {
    "name": "ipython",
    "version": 3
   },
   "file_extension": ".py",
   "mimetype": "text/x-python",
   "name": "python",
   "nbconvert_exporter": "python",
   "pygments_lexer": "ipython3",
   "version": "3.9.0-final"
  },
  "orig_nbformat": 2,
  "kernelspec": {
   "name": "python3",
   "display_name": "Python 3",
   "language": "python"
  }
 },
 "nbformat": 4,
 "nbformat_minor": 2,
 "cells": [
  {
   "cell_type": "code",
   "execution_count": 1,
   "metadata": {},
   "outputs": [],
   "source": [
    "from pyspark.sql import SparkSession\n",
    "\n",
    "spark = SparkSession.builder.appName('HousePricing').master('local[*]').getOrCreate()"
   ]
  },
  {
   "cell_type": "code",
   "execution_count": 3,
   "metadata": {},
   "outputs": [],
   "source": [
    "sdf = spark.read.option('header', 'true').option('inferSchema', 'true').csv('file:////Users/giovanna/Documents/GitHub/pyspark/SparkCourse/realestate.csv')"
   ]
  },
  {
   "cell_type": "code",
   "execution_count": 8,
   "metadata": {},
   "outputs": [
    {
     "output_type": "execute_result",
     "data": {
      "text/plain": [
       "['No',\n",
       " 'TransactionDate',\n",
       " 'HouseAge',\n",
       " 'DistanceToMRT',\n",
       " 'NumberConvenienceStores',\n",
       " 'Latitude',\n",
       " 'Longitude',\n",
       " 'PriceOfUnitArea']"
      ]
     },
     "metadata": {},
     "execution_count": 8
    }
   ],
   "source": [
    "sdf.columns"
   ]
  },
  {
   "cell_type": "code",
   "execution_count": 10,
   "metadata": {},
   "outputs": [],
   "source": [
    "from pyspark.ml.feature import VectorAssembler\n",
    "\n",
    "vAss = VectorAssembler(inputCols=['TransactionDate',\n",
    "                                    'HouseAge',\n",
    "                                    'DistanceToMRT',\n",
    "                                    'NumberConvenienceStores'],\\\n",
    "                       outputCol=\"features\")\n",
    "sdf_ass = vAss.transform(sdf).select('features', 'PriceOfUnitArea')"
   ]
  },
  {
   "cell_type": "code",
   "execution_count": 12,
   "metadata": {},
   "outputs": [],
   "source": [
    "sdf_ass_v = sdf_ass.randomSplit([0.5,0.5])\n",
    "sdf_ass_train = sdf_ass_v[0]\n",
    "sdf_ass_test = sdf_ass_v[1]"
   ]
  },
  {
   "cell_type": "code",
   "execution_count": 19,
   "metadata": {},
   "outputs": [],
   "source": [
    "from pyspark.ml.regression import DecisionTreeRegressor\n",
    "\n",
    "dTree = DecisionTreeRegressor(featuresCol='features', labelCol='PriceOfUnitArea')\n",
    "dTree_model = dTree.fit(sdf_ass_train)"
   ]
  },
  {
   "cell_type": "code",
   "execution_count": 21,
   "metadata": {},
   "outputs": [],
   "source": [
    "predictions = dTree_model.transform(sdf_ass_test)"
   ]
  },
  {
   "cell_type": "code",
   "execution_count": 22,
   "metadata": {},
   "outputs": [
    {
     "output_type": "stream",
     "name": "stdout",
     "text": [
      "+--------------------+---------------+------------------+\n|            features|PriceOfUnitArea|        prediction|\n+--------------------+---------------+------------------+\n|[2012.667,1.1,329...|           51.8|             44.95|\n|[2012.667,1.5,23....|           47.7|             49.85|\n|[2012.667,3.1,383...|           56.2|             44.95|\n|[2012.667,3.1,577...|           47.7|             44.95|\n|[2012.667,5.7,90....|           53.5|             49.85|\n|[2012.667,12.9,49...|           42.5|40.086842105263166|\n|[2012.667,14.6,33...|           26.5|40.086842105263166|\n|[2012.667,15.5,81...|           37.4|            36.475|\n|[2012.667,20.2,21...|           22.8| 23.83333333333333|\n|[2012.667,30.4,17...|           25.9|13.433333333333335|\n+--------------------+---------------+------------------+\nonly showing top 10 rows\n\n"
     ]
    }
   ],
   "source": [
    "predictions.show(10)"
   ]
  },
  {
   "cell_type": "code",
   "execution_count": null,
   "metadata": {},
   "outputs": [],
   "source": []
  }
 ]
}