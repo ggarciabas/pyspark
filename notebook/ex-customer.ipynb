{
 "metadata": {
  "language_info": {
   "codemirror_mode": {
    "name": "ipython",
    "version": 3
   },
   "file_extension": ".py",
   "mimetype": "text/x-python",
   "name": "python",
   "nbconvert_exporter": "python",
   "pygments_lexer": "ipython3",
   "version": "3.9.0-final"
  },
  "orig_nbformat": 2,
  "kernelspec": {
   "name": "python3",
   "display_name": "Python 3"
  }
 },
 "nbformat": 4,
 "nbformat_minor": 2,
 "cells": [
  {
   "cell_type": "code",
   "execution_count": 1,
   "metadata": {},
   "outputs": [],
   "source": [
    "from pyspark import SparkConf, SparkContext\n",
    "sc = SparkContext(conf = SparkConf().setMaster('local').setAppName('Customer'))"
   ]
  },
  {
   "cell_type": "code",
   "execution_count": 2,
   "metadata": {},
   "outputs": [],
   "source": [
    "lines = sc.textFile('file:////Users/giovanna/Documents/GitHub/pyspark/SparkCourse/customer-orders.csv')"
   ]
  },
  {
   "cell_type": "code",
   "execution_count": 3,
   "metadata": {},
   "outputs": [
    {
     "output_type": "execute_result",
     "data": {
      "text/plain": [
       "['44,8602,37.19', '35,5368,65.89']"
      ]
     },
     "metadata": {},
     "execution_count": 3
    }
   ],
   "source": [
    "lines.take(2)"
   ]
  },
  {
   "cell_type": "code",
   "execution_count": 4,
   "metadata": {},
   "outputs": [],
   "source": [
    "def parse (line):\n",
    "    fields = line.split(',')\n",
    "    return (fields[0], float(fields[2]))\n",
    "rdd = lines.map(parse)"
   ]
  },
  {
   "cell_type": "code",
   "execution_count": 5,
   "metadata": {},
   "outputs": [
    {
     "output_type": "execute_result",
     "data": {
      "text/plain": [
       "[('44', 37.19), ('35', 65.89)]"
      ]
     },
     "metadata": {},
     "execution_count": 5
    }
   ],
   "source": [
    "rdd.take(2)"
   ]
  },
  {
   "cell_type": "code",
   "execution_count": 11,
   "metadata": {},
   "outputs": [],
   "source": [
    "total_spent = rdd.reduceByKey(lambda x,y: x+y)"
   ]
  },
  {
   "cell_type": "code",
   "execution_count": 13,
   "metadata": {},
   "outputs": [
    {
     "output_type": "execute_result",
     "data": {
      "text/plain": [
       "[('44', 4756.8899999999985), ('35', 5155.419999999999)]"
      ]
     },
     "metadata": {},
     "execution_count": 13
    }
   ],
   "source": [
    "total_spent.take(2)"
   ]
  },
  {
   "cell_type": "code",
   "execution_count": 14,
   "metadata": {},
   "outputs": [
    {
     "output_type": "stream",
     "name": "stdout",
     "text": [
      "44 R$4756.8899999999985\n35 R$5155.419999999999\n2 R$5994.59\n47 R$4316.299999999999\n29 R$5032.529999999999\n91 R$4642.259999999999\n70 R$5368.249999999999\n85 R$5503.43\n53 R$4945.299999999999\n14 R$4735.030000000001\n51 R$4975.22\n42 R$5696.840000000003\n79 R$3790.570000000001\n50 R$4517.27\n20 R$4836.859999999999\n15 R$5413.510000000001\n5 R$4561.069999999999\n48 R$4384.33\n31 R$4765.05\n4 R$4815.050000000002\n36 R$4278.049999999997\n57 R$4628.4\n12 R$4664.589999999998\n22 R$5019.449999999999\n54 R$6065.389999999999\n0 R$5524.949999999998\n88 R$4830.549999999999\n86 R$4908.81\n13 R$4367.62\n40 R$5186.429999999999\n98 R$4297.260000000001\n55 R$5298.090000000002\n95 R$4876.840000000002\n61 R$5497.479999999998\n27 R$4915.889999999999\n78 R$4524.509999999999\n83 R$4635.799999999997\n6 R$5397.879999999998\n26 R$5250.4\n75 R$4178.500000000001\n25 R$5057.610000000001\n71 R$5995.660000000003\n39 R$6193.109999999999\n60 R$5040.709999999999\n97 R$5977.189999999995\n7 R$4755.070000000001\n21 R$4707.41\n69 R$5123.010000000001\n37 R$4735.200000000002\n1 R$4958.600000000001\n64 R$5288.689999999996\n82 R$4812.489999999998\n72 R$5337.44\n99 R$4172.289999999998\n34 R$5330.8\n73 R$6206.199999999999\n49 R$4394.599999999999\n8 R$5517.240000000001\n46 R$5963.109999999999\n23 R$4042.6499999999987\n19 R$5059.4299999999985\n65 R$5140.3499999999985\n80 R$4727.860000000001\n16 R$4979.06\n9 R$5322.649999999999\n18 R$4921.27\n59 R$5642.89\n74 R$4647.129999999999\n30 R$4990.72\n56 R$4701.019999999999\n90 R$5290.409999999998\n68 R$6375.449999999997\n11 R$5152.290000000002\n10 R$4819.700000000001\n41 R$5637.62\n58 R$5437.7300000000005\n87 R$5206.4\n17 R$5032.679999999999\n33 R$5254.659999999998\n62 R$5253.3200000000015\n92 R$5379.280000000002\n76 R$4904.209999999999\n66 R$4681.919999999999\n43 R$5368.83\n52 R$5245.059999999999\n77 R$4327.729999999999\n81 R$5112.709999999999\n84 R$4652.939999999999\n3 R$4659.63\n93 R$5265.750000000001\n89 R$4851.479999999999\n45 R$3309.38\n24 R$5259.920000000003\n96 R$3924.230000000001\n67 R$4505.79\n63 R$5415.150000000001\n94 R$4475.569999999999\n32 R$5496.050000000004\n38 R$4898.460000000002\n28 R$5000.709999999998\n"
     ]
    }
   ],
   "source": [
    "for cli in total_spent.collect():\n",
    "    print (str(cli[0]) + ' R$' + str(cli[1]))"
   ]
  }
 ]
}