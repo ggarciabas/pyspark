{
 "metadata": {
  "language_info": {
   "codemirror_mode": {
    "name": "ipython",
    "version": 3
   },
   "file_extension": ".py",
   "mimetype": "text/x-python",
   "name": "python",
   "nbconvert_exporter": "python",
   "pygments_lexer": "ipython3",
   "version": "3.9.0-final"
  },
  "orig_nbformat": 2,
  "kernelspec": {
   "name": "python3",
   "display_name": "Python 3",
   "language": "python"
  }
 },
 "nbformat": 4,
 "nbformat_minor": 2,
 "cells": [
  {
   "cell_type": "code",
   "execution_count": 1,
   "metadata": {},
   "outputs": [],
   "source": [
    "from pyspark.sql import SparkSession\n",
    "spark = SparkSession.builder.appName('ObscureSuperhero').getOrCreate()"
   ]
  },
  {
   "cell_type": "code",
   "execution_count": 2,
   "metadata": {},
   "outputs": [],
   "source": [
    "# read connection graph\n",
    "lines = spark.read.text('file:////Users/giovanna/Documents/GitHub/pyspark/SparkCourse/Marvel-graph.txt')"
   ]
  },
  {
   "cell_type": "code",
   "execution_count": 3,
   "metadata": {},
   "outputs": [
    {
     "output_type": "stream",
     "name": "stdout",
     "text": [
      "+--------------------+\n|               value|\n+--------------------+\n|5988 748 1722 375...|\n+--------------------+\nonly showing top 1 row\n\n"
     ]
    }
   ],
   "source": [
    "lines.show(1)"
   ]
  },
  {
   "cell_type": "code",
   "execution_count": 4,
   "metadata": {},
   "outputs": [],
   "source": [
    "from pyspark.sql import functions as F"
   ]
  },
  {
   "cell_type": "code",
   "execution_count": 5,
   "metadata": {},
   "outputs": [
    {
     "output_type": "stream",
     "name": "stdout",
     "text": [
      "+----+----------+\n|hero|total_conn|\n+----+----------+\n| 691|         7|\n+----+----------+\nonly showing top 1 row\n\n"
     ]
    }
   ],
   "source": [
    "sdf_hero_total = lines.withColumn('hero', F.split(F.col('value'), ' ')[0])\\\n",
    "                        .withColumn('total_conn', F.size(F.split(F.col('value'), ' '))-1)\\\n",
    "                        .groupby('hero')\\\n",
    "                            .agg(F.sum('total_conn').alias('total_conn'))\n",
    "sdf_hero_total.show(1)"
   ]
  },
  {
   "cell_type": "code",
   "execution_count": 6,
   "metadata": {},
   "outputs": [],
   "source": [
    "# sdf_hero_total.select(F.min('total_conn'))[0] -- assim é possível filtrar o DataFrame\n",
    "min_conn = sdf_hero_total.agg(F.min('total_conn')).first()[0] # -- assim é possível obter o valor diretamente"
   ]
  },
  {
   "cell_type": "code",
   "execution_count": 7,
   "metadata": {},
   "outputs": [],
   "source": [
    "# Filter obscure\n",
    "sdf_hero_total = sdf_hero_total.filter(F.col('total_conn') == min_conn)"
   ]
  },
  {
   "cell_type": "code",
   "execution_count": 8,
   "metadata": {},
   "outputs": [
    {
     "output_type": "stream",
     "name": "stdout",
     "text": [
      "+---+--------------------+\n| id|                name|\n+---+--------------------+\n|  1|24-HOUR MAN/EMMANUEL|\n|  2|3-D MAN/CHARLES CHAN|\n|  3|    4-D MAN/MERCURIO|\n|  4|             8-BALL/|\n+---+--------------------+\nonly showing top 4 rows\n\n"
     ]
    }
   ],
   "source": [
    "from pyspark.sql.types import StructType, StructField, IntegerType, StringType\n",
    "\n",
    "schema = StructType([StructField('id', IntegerType(), True),\\\n",
    "                        StructField('name', StringType(), True)])\n",
    "names = spark.read.schema(schema=schema).option('sep',' ').csv('file:////Users/giovanna/Documents/GitHub/pyspark/SparkCourse/Marvel-names.txt')\n",
    "names.show(4)"
   ]
  },
  {
   "cell_type": "code",
   "execution_count": 9,
   "metadata": {},
   "outputs": [],
   "source": [
    "sdf_hero_total = sdf_hero_total.join(names, sdf_hero_total.hero == names.id, 'left')"
   ]
  },
  {
   "cell_type": "code",
   "execution_count": 10,
   "metadata": {},
   "outputs": [
    {
     "output_type": "stream",
     "name": "stdout",
     "text": [
      "+----+----------+----+--------------------+\n|hero|total_conn|  id|                name|\n+----+----------+----+--------------------+\n| 467|         1| 467|        BERSERKER II|\n| 577|         1| 577|              BLARE/|\n|3490|         1|3490|MARVEL BOY II/MARTIN|\n|3489|         1|3489|MARVEL BOY/MARTIN BU|\n|2139|         1|2139|      GIURESCU, RADU|\n|1089|         1|1089|       CLUMSY FOULUP|\n|1841|         1|1841|              FENRIS|\n|4517|         1|4517|              RANDAK|\n|5028|         1|5028|           SHARKSKIN|\n| 835|         1| 835|     CALLAHAN, DANNY|\n+----+----------+----+--------------------+\nonly showing top 10 rows\n\n"
     ]
    }
   ],
   "source": [
    "sdf_hero_total.show(10)"
   ]
  },
  {
   "cell_type": "code",
   "execution_count": null,
   "metadata": {},
   "outputs": [],
   "source": []
  }
 ]
}