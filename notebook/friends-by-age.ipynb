{
 "metadata": {
  "language_info": {
   "codemirror_mode": {
    "name": "ipython",
    "version": 3
   },
   "file_extension": ".py",
   "mimetype": "text/x-python",
   "name": "python",
   "nbconvert_exporter": "python",
   "pygments_lexer": "ipython3",
   "version": "3.9.0-final"
  },
  "orig_nbformat": 2,
  "kernelspec": {
   "name": "python3",
   "display_name": "Python 3"
  }
 },
 "nbformat": 4,
 "nbformat_minor": 2,
 "cells": [
  {
   "cell_type": "code",
   "execution_count": 1,
   "metadata": {},
   "outputs": [],
   "source": [
    "from pyspark import SparkConf, SparkContext\n",
    "sc = SparkContext(conf = SparkConf().setMaster('local').setAppName('FriendsByAge'))"
   ]
  },
  {
   "cell_type": "code",
   "execution_count": 2,
   "metadata": {},
   "outputs": [
    {
     "output_type": "execute_result",
     "data": {
      "text/plain": [
       "['0,Will,33,385', '1,Jean-Luc,26,2']"
      ]
     },
     "metadata": {},
     "execution_count": 2
    }
   ],
   "source": [
    "csv_file = sc.textFile('file:////Users/giovanna/Documents/GitHub/pyspark/SparkCourse/fakefriends.csv')\n",
    "csv_file.take(2)"
   ]
  },
  {
   "cell_type": "code",
   "execution_count": 7,
   "metadata": {},
   "outputs": [],
   "source": [
    "def parser (line):\n",
    "    fields = line.split(',')\n",
    "    return (int(fields[2]), int(fields[3])) # Age, Total Friends"
   ]
  },
  {
   "cell_type": "code",
   "execution_count": 8,
   "metadata": {},
   "outputs": [
    {
     "output_type": "execute_result",
     "data": {
      "text/plain": [
       "[(33, 385), (26, 2)]"
      ]
     },
     "metadata": {},
     "execution_count": 8
    }
   ],
   "source": [
    "rdd = csv_file.map(parser)\n",
    "rdd.take(2)"
   ]
  },
  {
   "cell_type": "code",
   "execution_count": 10,
   "metadata": {},
   "outputs": [
    {
     "output_type": "execute_result",
     "data": {
      "text/plain": [
       "[(33, (3904, 12)), (26, (4115, 17))]"
      ]
     },
     "metadata": {},
     "execution_count": 10
    }
   ],
   "source": [
    "totalByAge = rdd.mapValues(lambda x: (x, 1))\\\n",
    "                    .reduceByKey(lambda x, y: (x[0] + y[0], x[1] + y[1]))\n",
    "# mapValues: map only values, the key is hidden\n",
    "# reduceByKey: do action on par of things in the same key\n",
    "totalByAge.take(2)"
   ]
  },
  {
   "cell_type": "code",
   "execution_count": 12,
   "metadata": {},
   "outputs": [
    {
     "output_type": "execute_result",
     "data": {
      "text/plain": [
       "[(33, 325.3333333333333), (26, 242.05882352941177)]"
      ]
     },
     "metadata": {},
     "execution_count": 12
    }
   ],
   "source": [
    "meanByAge = totalByAge.mapValues(lambda x: x[0]/x[1])\n",
    "meanByAge.take(2)"
   ]
  },
  {
   "cell_type": "code",
   "execution_count": 13,
   "metadata": {},
   "outputs": [
    {
     "output_type": "stream",
     "name": "stdout",
     "text": [
      "(33, 325.3333333333333)\n(26, 242.05882352941177)\n(55, 295.53846153846155)\n(40, 250.8235294117647)\n(68, 269.6)\n(59, 220.0)\n(37, 249.33333333333334)\n(54, 278.0769230769231)\n(38, 193.53333333333333)\n(27, 228.125)\n(53, 222.85714285714286)\n(57, 258.8333333333333)\n(56, 306.6666666666667)\n(43, 230.57142857142858)\n(36, 246.6)\n(22, 206.42857142857142)\n(35, 211.625)\n(45, 309.53846153846155)\n(60, 202.71428571428572)\n(67, 214.625)\n(19, 213.27272727272728)\n(30, 235.8181818181818)\n(51, 302.14285714285717)\n(25, 197.45454545454547)\n(21, 350.875)\n(42, 303.5)\n(49, 184.66666666666666)\n(48, 281.4)\n(50, 254.6)\n(39, 169.28571428571428)\n(32, 207.9090909090909)\n(58, 116.54545454545455)\n(64, 281.3333333333333)\n(31, 267.25)\n(52, 340.6363636363636)\n(24, 233.8)\n(20, 165.0)\n(62, 220.76923076923077)\n(41, 268.55555555555554)\n(44, 282.1666666666667)\n(69, 235.2)\n(65, 298.2)\n(61, 256.22222222222223)\n(28, 209.1)\n(66, 276.44444444444446)\n(46, 223.69230769230768)\n(29, 215.91666666666666)\n(18, 343.375)\n(47, 233.22222222222223)\n(34, 245.5)\n(63, 384.0)\n(23, 246.3)\n"
     ]
    }
   ],
   "source": [
    "result = meanByAge.collect()\n",
    "for res in result:\n",
    "    print (res)"
   ]
  },
  {
   "cell_type": "code",
   "execution_count": null,
   "metadata": {},
   "outputs": [],
   "source": []
  }
 ]
}