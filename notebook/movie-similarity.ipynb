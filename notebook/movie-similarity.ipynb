{
 "metadata": {
  "language_info": {
   "codemirror_mode": {
    "name": "ipython",
    "version": 3
   },
   "file_extension": ".py",
   "mimetype": "text/x-python",
   "name": "python",
   "nbconvert_exporter": "python",
   "pygments_lexer": "ipython3",
   "version": "3.9.0-final"
  },
  "orig_nbformat": 2,
  "kernelspec": {
   "name": "python3",
   "display_name": "Python 3",
   "language": "python"
  }
 },
 "nbformat": 4,
 "nbformat_minor": 2,
 "cells": [
  {
   "cell_type": "code",
   "execution_count": 1,
   "metadata": {},
   "outputs": [],
   "source": [
    "from pyspark.sql import SparkSession\n",
    "\n",
    "spark = SparkSession.builder.appName('MovieSimilarity').master('local[*]').getOrCreate()"
   ]
  },
  {
   "cell_type": "code",
   "execution_count": 2,
   "metadata": {},
   "outputs": [],
   "source": [
    "from pyspark.sql.types import StructType, StructField, StringType, IntegerType\n",
    "\n",
    "# user id | item id | rating | timestamp. \n",
    "schRating = StructType([StructField('user_id', IntegerType(), True),\\\n",
    "                        StructField('movie_id', IntegerType(), True),\\\n",
    "                        StructField('rating', IntegerType(), True),\\\n",
    "                        StructField('timestamp', StringType(), True)])\n",
    "\n",
    "ratings = spark.read.schema(schema=schRating)\\\n",
    "                    .option('sep', '\\t')\\\n",
    "                    .csv('file:////Users/giovanna/Documents/GitHub/pyspark/SparkCourse/ml-100k/u.data')\\\n",
    "                    .select('user_id', 'movie_id', 'rating')"
   ]
  },
  {
   "cell_type": "code",
   "execution_count": 3,
   "metadata": {},
   "outputs": [],
   "source": [
    "schName = StructType([StructField('movie_id', IntegerType(), True),\\\n",
    "                        StructField('name', StringType(), True)])\n",
    "names = spark.read.schema(schema=schName)\\\n",
    "                    .option('sep', '|')\\\n",
    "                    .option('charset', 'ISO-8859-1')\\\n",
    "                    .csv('file:////Users/giovanna/Documents/GitHub/pyspark/SparkCourse/ml-100k/u.item')"
   ]
  },
  {
   "cell_type": "code",
   "execution_count": 4,
   "metadata": {},
   "outputs": [
    {
     "output_type": "stream",
     "name": "stdout",
     "text": [
      "+-------+--------+------+\n|user_id|movie_id|rating|\n+-------+--------+------+\n|    196|     242|     3|\n+-------+--------+------+\nonly showing top 1 row\n\n"
     ]
    }
   ],
   "source": [
    "ratings.show(1)"
   ]
  },
  {
   "cell_type": "code",
   "execution_count": 5,
   "metadata": {},
   "outputs": [],
   "source": [
    "from pyspark.sql import functions as F"
   ]
  },
  {
   "cell_type": "code",
   "execution_count": 6,
   "metadata": {},
   "outputs": [
    {
     "output_type": "stream",
     "name": "stdout",
     "text": [
      "+------+------+--------+--------+\n|movie1|movie2|ratings1|ratings2|\n+------+------+--------+--------+\n|   242|   269|       3|       3|\n+------+------+--------+--------+\nonly showing top 1 row\n\n"
     ]
    }
   ],
   "source": [
    "# self-join, para cada usuário identifica par a par, removendo os filmes iguais.\n",
    "movie_2a2 = ratings.alias('ratings1')\\\n",
    "                    .join(ratings.alias('ratings2'), \\\n",
    "                            (F.col('ratings1.user_id') == F.col('ratings2.user_id')) \\\n",
    "                                & (F.col('ratings1.movie_id') < F.col('ratings2.movie_id')))\\\n",
    "                    .select(F.col('ratings1.movie_id').alias('movie1'),\\\n",
    "                             F.col('ratings2.movie_id').alias('movie2'),\\\n",
    "                             F.col('ratings1.rating').alias('ratings1'),\\\n",
    "                             F.col('ratings2.rating').alias('ratings2'))\n",
    "movie_2a2.show(1)"
   ]
  },
  {
   "cell_type": "code",
   "execution_count": 7,
   "metadata": {},
   "outputs": [],
   "source": [
    "# filtrar relações com baixo valor de recomendação\n",
    "movie_2a2 = movie_2a2.filter(F.col('ratings2') < 1)"
   ]
  },
  {
   "cell_type": "code",
   "execution_count": 8,
   "metadata": {},
   "outputs": [],
   "source": [
    "movie_2a2 = movie_2a2.withColumn('xx', F.col('ratings1') * F.col('ratings1'))\\\n",
    "                        .withColumn('yy', F.col('ratings2') * F.col('ratings2'))\\\n",
    "                        .withColumn('xy', F.col('ratings1') * F.col('ratings2'))"
   ]
  },
  {
   "source": [
    "$\\Large denominator = \\frac{\\sum xy}{\\sqrt{\\sum xx} * \\sqrt{\\sum yy}}$"
   ],
   "cell_type": "markdown",
   "metadata": {}
  },
  {
   "cell_type": "code",
   "execution_count": 9,
   "metadata": {},
   "outputs": [
    {
     "output_type": "stream",
     "name": "stdout",
     "text": [
      "+------+------+---------+-----------+--------------+\n|movie1|movie2|numerator|denominator|total_revision|\n+------+------+---------+-----------+--------------+\n+------+------+---------+-----------+--------------+\n\n"
     ]
    }
   ],
   "source": [
    "movie_2a2_group = movie_2a2.groupby('movie1', 'movie2')\\\n",
    "                            .agg(F.sum(F.col('xy')).alias('numerator'),\\\n",
    "                                 (F.sqrt(F.sum(F.col('xx'))) * F.sqrt(F.sum(F.col('yy')))).alias('denominator'),\\\n",
    "                                 F.count(F.col('xy')).alias('total_revision'))\n",
    "movie_2a2_group.show(1)"
   ]
  },
  {
   "cell_type": "code",
   "execution_count": 10,
   "metadata": {},
   "outputs": [
    {
     "output_type": "stream",
     "name": "stdout",
     "text": [
      "+------+------+--------------+-----+\n|movie1|movie2|total_revision|score|\n+------+------+--------------+-----+\n+------+------+--------------+-----+\n\n"
     ]
    }
   ],
   "source": [
    "movie_scores = movie_2a2_group.withColumn('score', \\\n",
    "                                            F.when(F.col('denominator') != 0, \\\n",
    "                                                    F.col('numerator') / F.col('denominator'))\\\n",
    "                                              .otherwise(0))\\\n",
    "                                .drop('numerator', 'denominator')\n",
    "movie_scores.show(1)"
   ]
  },
  {
   "cell_type": "code",
   "execution_count": 11,
   "metadata": {},
   "outputs": [
    {
     "output_type": "stream",
     "name": "stdout",
     "text": [
      "+--------+----------------+\n|movie_id|            name|\n+--------+----------------+\n|       1|Toy Story (1995)|\n|       2|GoldenEye (1995)|\n+--------+----------------+\nonly showing top 2 rows\n\n"
     ]
    }
   ],
   "source": [
    "names.show(2)"
   ]
  },
  {
   "cell_type": "code",
   "execution_count": 12,
   "metadata": {},
   "outputs": [],
   "source": [
    "minScore = 0.90\n",
    "minRev = 50"
   ]
  },
  {
   "cell_type": "code",
   "execution_count": 13,
   "metadata": {},
   "outputs": [
    {
     "output_type": "execute_result",
     "data": {
      "text/plain": [
       "'Star Wars (1977)'"
      ]
     },
     "metadata": {},
     "execution_count": 13
    }
   ],
   "source": [
    "movie = 50\n",
    "names.filter(F.col('movie_id')==movie).collect()[0]['name']"
   ]
  },
  {
   "cell_type": "code",
   "execution_count": 14,
   "metadata": {},
   "outputs": [],
   "source": [
    "recommendations = movie_scores.filter((F.col('movie1') == movie) \\\n",
    "                                        & (F.col('score') > minScore)\\\n",
    "                                        & (F.col('total_revision') > minRev))\\\n",
    "                                .orderBy('score', ascending=False)\\\n",
    "                                .take(10)"
   ]
  },
  {
   "cell_type": "code",
   "execution_count": 15,
   "metadata": {},
   "outputs": [],
   "source": [
    "for rec_mov in recommendations:\n",
    "    print (f\"Filme {names.filter(F.col('movie_id') == rec_mov['movie2']).collect()[0]['name']} score {rec_mov['score']}\")"
   ]
  },
  {
   "cell_type": "code",
   "execution_count": null,
   "metadata": {},
   "outputs": [],
   "source": []
  }
 ]
}